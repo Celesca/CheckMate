{
 "cells": [
  {
   "cell_type": "markdown",
   "metadata": {},
   "source": [
    "## AI Agents for correcting the questions"
   ]
  },
  {
   "cell_type": "code",
   "execution_count": 2,
   "metadata": {},
   "outputs": [],
   "source": [
    "from langgraph.graph import StateGraph, END\n",
    "from typing import TypedDict, Annotated, List\n",
    "import operator\n",
    "from langgraph.checkpoint.sqlite import SqliteSaver\n",
    "from langchain_core.messages import AnyMessage, SystemMessage, HumanMessage, AIMessage, ChatMessage\n",
    "\n",
    "memory = SqliteSaver.from_conn_string(\":memory:\")"
   ]
  },
  {
   "cell_type": "code",
   "execution_count": 3,
   "metadata": {},
   "outputs": [],
   "source": [
    "class AgentState(TypedDict):\n",
    "    code: str\n",
    "    check: str\n",
    "    critique: str\n",
    "    revision_number: int # keep track of the number revisions\n",
    "    max_revisions: int # use for criteria"
   ]
  },
  {
   "cell_type": "markdown",
   "metadata": {},
   "source": [
    "## Installation for Langchain OpenAI"
   ]
  },
  {
   "cell_type": "code",
   "execution_count": 4,
   "metadata": {},
   "outputs": [],
   "source": [
    "import getpass\n",
    "import os\n",
    "\n",
    "def _set_env(var: str):\n",
    "    if not os.environ.get(var):\n",
    "        os.environ[var] = getpass.getpass(f\"{var}: \")\n",
    "\n",
    "_set_env(\"OPENAI_API_KEY\")"
   ]
  },
  {
   "cell_type": "code",
   "execution_count": 5,
   "metadata": {},
   "outputs": [],
   "source": [
    "from langchain_openai import ChatOpenAI\n",
    "model = ChatOpenAI(model=\"gpt-3.5-turbo\", temperature=0)"
   ]
  },
  {
   "cell_type": "code",
   "execution_count": 44,
   "metadata": {},
   "outputs": [],
   "source": [
    "CHECK_PROMPT = \"\"\"\n",
    "You are a Python notebook grader. Your task is to assign a score from 0 to 5 to a student's notebook based on:\n",
    "1. Code correctness and functionality.\n",
    "2. Code readability and style.\n",
    "3. Use of comments and explanations.\n",
    "4. Structure and flow of the notebook.\n",
    "5. Originality and creativity.\n",
    "\n",
    "For the notebook provided below, give a score from 0 to 5, explain your reasoning, and suggest improvements.\n",
    "\n",
    "Notebook Content:\n",
    "{notebook_text}\n",
    "\n",
    "Your Response:\n",
    "Score: [0-5]\n",
    "Explanation: [Why this score was assigned]\n",
    "Suggestions for improvement: [Detailed suggestions]\n",
    "    \"\"\""
   ]
  },
  {
   "cell_type": "code",
   "execution_count": 45,
   "metadata": {},
   "outputs": [],
   "source": [
    "CRITIQUE_PROMPT = \"\"\"You are a critique agent tasked with evaluating the grading done by another AI. Below is the original notebook and the grading details.\n",
    "\n",
    "Notebook Content:\n",
    "{notebook_text}\n",
    "\n",
    "Original Grader's Feedback:\n",
    "{feedback}\n",
    "\n",
    "Critique the grading:\n",
    "1. Is the score fair? If not, propose an alternate score.\n",
    "2. Are the explanations clear and accurate? If not, suggest corrections.\n",
    "3. Are the suggestions useful? Provide additional suggestions if needed.\n",
    "\n",
    "Your Response:\n",
    "Critique: [Fairness, clarity, and accuracy]\n",
    "Revised Score (if needed): [0-5]\n",
    "Additional Suggestions: [Improvements on the notebook]\n",
    "\"\"\""
   ]
  },
  {
   "cell_type": "code",
   "execution_count": 46,
   "metadata": {},
   "outputs": [],
   "source": [
    "def check_node(state: AgentState):\n",
    "    check_content = \"Here is the suggestion : \\n\\n\".join(state['check'] or [])\n",
    "    code_content = HumanMessage(content=state['code'])\n",
    "    \n",
    "    messages = [\n",
    "        SystemMessage(content=CHECK_PROMPT.format(notebook_text=code_content)),\n",
    "        HumanMessage(content=check_content)\n",
    "    ]\n",
    "\n",
    "    critique_content = \"Here is the critique from suggestion : \\n\\n\".join(state['critique'] or [])\n",
    "    \n",
    "    if critique_content:\n",
    "        critique_message = HumanMessage(content=critique_content)\n",
    "        messages.append(critique_message)\n",
    "\n",
    "    response = model.invoke(messages)\n",
    "    return {\"check\": response.content}"
   ]
  },
  {
   "cell_type": "code",
   "execution_count": 47,
   "metadata": {},
   "outputs": [],
   "source": [
    "def reflection_node(state):\n",
    "\n",
    "    code_content = HumanMessage(content=state['code'])\n",
    "    messages = [\n",
    "        SystemMessage(content=CRITIQUE_PROMPT.format(notebook_text=code_content, feedback=state['check'])),\n",
    "    ]\n",
    "    response = model.invoke(messages)\n",
    "    return {\"critique\": response.content,\n",
    "            \"revision_number\": state.get(\"revision_number\", 1) + 1}"
   ]
  },
  {
   "cell_type": "code",
   "execution_count": 48,
   "metadata": {},
   "outputs": [],
   "source": [
    "def should_continue(state):\n",
    "    if state[\"revision_number\"] > state[\"max_revisions\"]:\n",
    "        return END\n",
    "    return \"score\""
   ]
  },
  {
   "cell_type": "code",
   "execution_count": 49,
   "metadata": {},
   "outputs": [
    {
     "data": {
      "text/plain": [
       "<langgraph.graph.state.StateGraph at 0x21f22c0dd00>"
      ]
     },
     "execution_count": 49,
     "metadata": {},
     "output_type": "execute_result"
    }
   ],
   "source": [
    "builder = StateGraph(AgentState)\n",
    "\n",
    "builder.add_node(\"score\", check_node)\n",
    "builder.add_node(\"reflect\", reflection_node)\n",
    "\n",
    "builder.set_entry_point(\"score\")\n",
    "builder.add_edge(\"score\", \"reflect\")"
   ]
  },
  {
   "cell_type": "code",
   "execution_count": 50,
   "metadata": {},
   "outputs": [
    {
     "data": {
      "text/plain": [
       "<langgraph.graph.state.StateGraph at 0x21f22c0dd00>"
      ]
     },
     "execution_count": 50,
     "metadata": {},
     "output_type": "execute_result"
    }
   ],
   "source": [
    "builder.add_conditional_edges(\n",
    "    \"reflect\", \n",
    "    should_continue, \n",
    "    {END: END, \"score\": \"score\"}\n",
    ")"
   ]
  },
  {
   "cell_type": "code",
   "execution_count": 51,
   "metadata": {},
   "outputs": [],
   "source": [
    "graph = builder.compile(checkpointer=memory)"
   ]
  },
  {
   "cell_type": "code",
   "execution_count": 52,
   "metadata": {},
   "outputs": [
    {
     "data": {
      "image/png": "[encoded data removed]",
      "text/plain": [
       "<IPython.core.display.Image object>"
      ]
     },
     "metadata": {},
     "output_type": "display_data"
    }
   ],
   "source": [
    "from IPython.display import Image, display\n",
    "\n",
    "try:\n",
    "    display(Image(graph.get_graph().draw_mermaid_png()))\n",
    "except Exception:\n",
    "    # This requires some extra dependencies and is optional\n",
    "    pass"
   ]
  },
  {
   "cell_type": "code",
   "execution_count": 61,
   "metadata": {},
   "outputs": [],
   "source": [
    "import nbformat\n",
    "def extract_code_cells(notebook_path):\n",
    "    try:\n",
    "        with open(notebook_path, 'r', encoding='utf-8') as f:\n",
    "            notebook = nbformat.read(f, as_version=4)\n",
    "\n",
    "        code_cells = [\n",
    "            # capture all cell doesn't matter the type\n",
    "            cell['source'] for cell in notebook['cells']\n",
    "            # cell['source'] for cell in notebook['cells'] #if cell['cell_type'] == 'code'\n",
    "        ]\n",
    "\n",
    "        return code_cells\n",
    "\n",
    "    except Exception as e:\n",
    "        print(f'Error reading notebook: {e}')\n",
    "        return []"
   ]
  },
  {
   "cell_type": "code",
   "execution_count": 62,
   "metadata": {},
   "outputs": [
    {
     "data": {
      "text/plain": [
       "'c:\\\\Users\\\\Sawit\\\\Desktop\\\\CheckMate'"
      ]
     },
     "execution_count": 62,
     "metadata": {},
     "output_type": "execute_result"
    }
   ],
   "source": [
    "import os\n",
    "\n",
    "os.getcwd()"
   ]
  },
  {
   "cell_type": "code",
   "execution_count": 70,
   "metadata": {},
   "outputs": [],
   "source": [
    "notebook_file = \"tests/1.ipynb\"\n",
    "code_cells = extract_code_cells(notebook_file)\n",
    "code_input = \"\\n\".join(code_cells[1:])"
   ]
  },
  {
   "cell_type": "code",
   "execution_count": null,
   "metadata": {},
   "outputs": [],
   "source": [
    "thread = {\"configurable\": {\"thread_id\": \"1\"}}\n",
    "\n",
    "# visibility \n",
    "for s in graph.stream({\n",
    "    'code': code_input,\n",
    "    \"max_revisions\": 2,\n",
    "    \"revision_number\": 1,\n",
    "}, thread):\n",
    "    print(s)"
   ]
  }
 ],
 "metadata": {
  "kernelspec": {
   "display_name": "Python 3",
   "language": "python",
   "name": "python3"
  },
  "language_info": {
   "codemirror_mode": {
    "name": "ipython",
    "version": 3
   },
   "file_extension": ".py",
   "mimetype": "text/x-python",
   "name": "python",
   "nbconvert_exporter": "python",
   "pygments_lexer": "ipython3",
   "version": "3.12.6"
  }
 },
 "nbformat": 4,
 "nbformat_minor": 2
}
